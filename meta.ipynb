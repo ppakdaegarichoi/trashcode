{
 "cells": [
  {
   "cell_type": "code",
   "execution_count": null,
   "metadata": {},
   "outputs": [],
   "source": [
    "def solution(id_list, report, k):\n",
    "    answer = [0] * len(id_list)    \n",
    "    reports = {x : 0 for x in id_list}\n",
    "\n",
    "    for r in set(report):\n",
    "        reports[r.split()[1]] += 1\n",
    "\n",
    "    for r in set(report):\n",
    "        if reports[r.split()[1]] >= k:\n",
    "            answer[id_list.index(r.split()[0])] += 1\n",
    "\n",
    "    return answer"
   ]
  },
  {
   "cell_type": "code",
   "execution_count": null,
   "metadata": {},
   "outputs": [],
   "source": [
    "id_list = [\"muzi\", \"frodo\", \"apeach\", \"neo\"]\n",
    "report = [\"muzi frodo\",\"apeach frodo\",\"frodo neo\",\"muzi neo\",\"apeach muzi\"]\n",
    "reports = {x:0 for x in id_list}"
   ]
  },
  {
   "cell_type": "code",
   "execution_count": null,
   "metadata": {},
   "outputs": [],
   "source": [
    "import time\n",
    "\n",
    "start = time.time()\n",
    "\n",
    "N = 70000000000000000\n",
    "K = 7\n",
    "\n",
    "cnt = 0\n",
    "\n",
    "while N != 1:\n",
    "    if N % K == 0:\n",
    "        N /= K\n",
    "        cnt +=1\n",
    "    else:\n",
    "        N -= 1\n",
    "        cnt +=1\n",
    "\n",
    "print(f\"과정을 수행해야 하는 최소 횟수는 {cnt}\")\n",
    "\n",
    "print(\"time :\", time.time() - start)\n",
    "\n",
    "                \n",
    "\n"
   ]
  },
  {
   "cell_type": "code",
   "execution_count": null,
   "metadata": {},
   "outputs": [],
   "source": [
    "import time\n",
    "\n",
    "start = time.time()\n",
    "\n",
    "#  n, k = map(int, input().split())\n",
    "\n",
    "n = 100000000000000000000\n",
    "k = 7\n",
    "result = 0\n",
    "\n",
    "while True:\n",
    "    target = (n//k) * k\n",
    "    result += (n - target)\n",
    "    n = target\n",
    "\n",
    "    if n < k:\n",
    "        break\n",
    "    \n",
    "    result += 1\n",
    "    n /= k\n",
    "\n",
    "result += (n - 1)\n",
    "print(result)\n",
    "print(\"time :\", time.time() - start)"
   ]
  },
  {
   "cell_type": "code",
   "execution_count": 15,
   "metadata": {},
   "outputs": [
    {
     "name": "stdout",
     "output_type": "stream",
     "text": [
      "210\n"
     ]
    }
   ],
   "source": [
    "## 그리디 알고리즘, 곱하기 혹은 더하기\n",
    "## 각 자리가(0부터9) 이루어진 문자열 S 가 주어졌을때 왼쪽에서\n",
    "## 오른쪽 숫자를 확인하며 숫자 사이에 'x', '+' 연산자를 넣어 결과적으로 \n",
    "## 만들어질수있는 최대값을 구하는것\n",
    "\n",
    "s = list(map(int, str(input())))\n",
    "\n",
    "number = 0\n",
    "\n",
    "for i in range(0, len(s)-1):\n",
    "    if i == 0:\n",
    "        if s[i] == 0 or s[i] == 1 or s[i+1] == 0 or s[i+1] == 1:\n",
    "            number = s[i] + s[i+1]\n",
    "        else:\n",
    "            number = s[i] * s[i+1]\n",
    "    else:\n",
    "        if s[i+1] == 0 or s[i+1] == 1:\n",
    "            number += s[i+1]\n",
    "        else:\n",
    "            number *= s[i+1]\n",
    "\n",
    "print(number)\n",
    "\n"
   ]
  },
  {
   "cell_type": "code",
   "execution_count": 37,
   "metadata": {},
   "outputs": [
    {
     "name": "stdout",
     "output_type": "stream",
     "text": [
      "2\n"
     ]
    }
   ],
   "source": [
    "## 그리디 알고리즘, 모험가 길드\n",
    "## N 명의 모험가가 주어졌을때 공포도가 X 인경우 X 명이상일 경우 그룹을 지을 수 있다\n",
    "N = input()\n",
    "\n",
    "s = list(map(int, (input().split())))\n",
    "\n",
    "cnt = 0\n",
    "\n",
    "while True:\n",
    "    for _ in range(0, max(s)):\n",
    "        del(s[0])\n",
    "    cnt += 1\n",
    "    if len(s) == 0:\n",
    "        break\n",
    "\n",
    "print(cnt)\n"
   ]
  },
  {
   "cell_type": "code",
   "execution_count": 35,
   "metadata": {},
   "outputs": [
    {
     "data": {
      "text/plain": [
       "[2]"
      ]
     },
     "execution_count": 35,
     "metadata": {},
     "output_type": "execute_result"
    }
   ],
   "source": [
    "s"
   ]
  },
  {
   "cell_type": "code",
   "execution_count": 27,
   "metadata": {},
   "outputs": [
    {
     "name": "stdout",
     "output_type": "stream",
     "text": [
      "[2, 3, 1, 2, 2]\n",
      "[3, 1, 2, 2]\n"
     ]
    }
   ],
   "source": [
    "print(s)\n",
    "\n",
    "s.remove(s[0])\n",
    "print(s)\n",
    "s[0]"
   ]
  },
  {
   "cell_type": "code",
   "execution_count": 28,
   "metadata": {},
   "outputs": [
    {
     "data": {
      "text/plain": [
       "3"
      ]
     },
     "execution_count": 28,
     "metadata": {},
     "output_type": "execute_result"
    }
   ],
   "source": [
    "s[0]"
   ]
  },
  {
   "cell_type": "code",
   "execution_count": null,
   "metadata": {},
   "outputs": [],
   "source": []
  }
 ],
 "metadata": {
  "interpreter": {
   "hash": "63fd5069d213b44bf678585dea6b12cceca9941eaf7f819626cde1f2670de90d"
  },
  "kernelspec": {
   "display_name": "Python 3.9.2 64-bit",
   "name": "python3"
  },
  "language_info": {
   "codemirror_mode": {
    "name": "ipython",
    "version": 3
   },
   "file_extension": ".py",
   "mimetype": "text/x-python",
   "name": "python",
   "nbconvert_exporter": "python",
   "pygments_lexer": "ipython3",
   "version": "3.9.2"
  },
  "orig_nbformat": 4
 },
 "nbformat": 4,
 "nbformat_minor": 2
}
